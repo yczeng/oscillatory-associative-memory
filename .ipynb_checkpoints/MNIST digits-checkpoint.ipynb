{
 "cells": [
  {
   "cell_type": "markdown",
   "metadata": {},
   "source": [
    "Import statements:"
   ]
  },
  {
   "cell_type": "code",
   "execution_count": 16,
   "metadata": {},
   "outputs": [],
   "source": [
    "import pickle, gzip, numpy as np\n",
    "import matplotlib.pyplot as plt\n",
    "import matplotlib.cm as cm\n",
    "import math\n",
    "import random"
   ]
  },
  {
   "cell_type": "markdown",
   "metadata": {},
   "source": [
    "Importing the MNIST dataset:"
   ]
  },
  {
   "cell_type": "code",
   "execution_count": 17,
   "metadata": {},
   "outputs": [],
   "source": [
    "def plotImages(X):\n",
    "    if X.ndim == 1:\n",
    "        X = np.array([X])\n",
    "    numImages = X.shape[0]\n",
    "    numRows = math.floor(math.sqrt(numImages))\n",
    "    numCols = math.ceil(numImages/numRows)\n",
    "    for i in range(numImages):\n",
    "        reshapedImage = X[i,:].reshape(28,28)\n",
    "        plt.subplot(numRows, numCols, i+1)\n",
    "        plt.imshow(reshapedImage, cmap = cm.Greys_r)\n",
    "        plt.axis('off')\n",
    "    plt.show()\n",
    "\n",
    "def readPickleData(fileName):\n",
    "    f = gzip.open(fileName, 'rb')\n",
    "    data = pickle.load(f, encoding='latin1')\n",
    "    f.close()\n",
    "    return data\n",
    "\n",
    "def getMNISTData():\n",
    "    trainSet, validSet, testSet = readPickleData('mnist.pkl.gz')   \n",
    "    trainX, trainY = trainSet\n",
    "    validX, validY = validSet\n",
    "    trainX = np.vstack((trainX, validX))\n",
    "    trainY = np.append(trainY, validY)\n",
    "    testX, testY = testSet\n",
    "    return (trainX, trainY, testX, testY)\n",
    "\n",
    "def plotImagesHorizontal(X):\n",
    "    if X.ndim == 1:\n",
    "        X = np.array([X])\n",
    "    numImages = X.shape[0]\n",
    "    numRows = 1\n",
    "    numCols = numImages\n",
    "    for i in range(numImages):\n",
    "        reshapedImage = X[i,:].reshape(28,28)\n",
    "        plt.subplot(numRows, numCols, i+1)\n",
    "        plt.imshow(reshapedImage, cmap = cm.Greys_r)\n",
    "        plt.axis('off')\n",
    "    plt.show()\n",
    "\n",
    "(trainX, trainY, testX, testY) = getMNISTData()"
   ]
  },
  {
   "cell_type": "markdown",
   "metadata": {},
   "source": [
    "We print out the first 20 digits of the MNIST training dataset:"
   ]
  },
  {
   "cell_type": "code",
   "execution_count": 18,
   "metadata": {},
   "outputs": [
    {
     "data": {
      "image/png": "[encoded data removed]",
      "text/plain": [
       "<matplotlib.figure.Figure at 0x7f809fa0af60>"
      ]
     },
     "metadata": {
      "needs_background": "light"
     },
     "output_type": "display_data"
    }
   ],
   "source": [
    "plotImages(trainX[0:20,:])"
   ]
  },
  {
   "cell_type": "markdown",
   "metadata": {},
   "source": [
    "For our proof of concept, we will store one of each of the 9 digits in associative memory:"
   ]
  },
  {
   "cell_type": "code",
   "execution_count": 19,
   "metadata": {},
   "outputs": [
    {
     "data": {
      "image/png": "[encoded data removed]",
      "text/plain": [
       "<matplotlib.figure.Figure at 0x7f809f3a05c0>"
      ]
     },
     "metadata": {
      "needs_background": "light"
     },
     "output_type": "display_data"
    }
   ],
   "source": [
    "digits = [6, 5, 7, 26, 0, 18, 42, 17, 43]\n",
    "\n",
    "plotImagesHorizontal(np.array([trainX[i] for i in digits]))"
   ]
  },
  {
   "cell_type": "code",
   "execution_count": null,
   "metadata": {},
   "outputs": [],
   "source": []
  }
 ],
 "metadata": {
  "kernelspec": {
   "display_name": "Python 3",
   "language": "python",
   "name": "python3"
  },
  "language_info": {
   "codemirror_mode": {
    "name": "ipython",
    "version": 3
   },
   "file_extension": ".py",
   "mimetype": "text/x-python",
   "name": "python",
   "nbconvert_exporter": "python",
   "pygments_lexer": "ipython3",
   "version": "3.5.2"
  }
 },
 "nbformat": 4,
 "nbformat_minor": 2
}
