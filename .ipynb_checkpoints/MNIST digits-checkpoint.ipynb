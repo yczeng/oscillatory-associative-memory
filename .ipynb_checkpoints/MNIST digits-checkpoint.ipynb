{
 "cells": [
  {
   "cell_type": "code",
   "execution_count": 172,
   "metadata": {},
   "outputs": [],
   "source": [
    "import pickle, gzip, numpy as np\n",
    "import matplotlib.pyplot as plt\n",
    "import matplotlib.cm as cm\n",
    "import math\n",
    "import random"
   ]
  },
  {
   "cell_type": "markdown",
   "metadata": {},
   "source": [
    "### Importing MNIST database:"
   ]
  },
  {
   "cell_type": "code",
   "execution_count": 173,
   "metadata": {},
   "outputs": [],
   "source": [
    "def plotImages(X):\n",
    "    if X.ndim == 1:\n",
    "        X = np.array([X])\n",
    "    numImages = X.shape[0]\n",
    "    numRows = math.floor(math.sqrt(numImages))\n",
    "    numCols = math.ceil(numImages/numRows)\n",
    "    for i in range(numImages):\n",
    "        reshapedImage = X[i,:].reshape(28,28)\n",
    "        plt.subplot(numRows, numCols, i+1)\n",
    "        plt.imshow(reshapedImage, cmap = cm.Greys_r)\n",
    "        plt.axis('off')\n",
    "    plt.show()\n",
    "\n",
    "def readPickleData(fileName):\n",
    "    f = gzip.open(fileName, 'rb')\n",
    "    data = pickle.load(f, encoding='latin1')\n",
    "    f.close()\n",
    "    return data\n",
    "\n",
    "def getMNISTData():\n",
    "    trainSet, validSet, testSet = readPickleData('mnist.pkl.gz')   \n",
    "    trainX, trainY = trainSet\n",
    "    validX, validY = validSet\n",
    "    trainX = np.vstack((trainX, validX))\n",
    "    trainY = np.append(trainY, validY)\n",
    "    testX, testY = testSet\n",
    "    return (trainX, trainY, testX, testY)\n",
    "\n",
    "def plotImagesHorizontal(X):\n",
    "    if X.ndim == 1:\n",
    "        X = np.array([X])\n",
    "    numImages = X.shape[0]\n",
    "    numRows = 1\n",
    "    numCols = numImages\n",
    "    for i in range(numImages):\n",
    "        reshapedImage = X[i,:].reshape(28,28)\n",
    "        plt.subplot(numRows, numCols, i+1)\n",
    "        plt.imshow(reshapedImage, cmap = cm.Greys_r)\n",
    "        plt.axis('off')\n",
    "    plt.show()\n",
    "\n",
    "(trainX, trainY, testX, testY) = getMNISTData()"
   ]
  },
  {
   "cell_type": "markdown",
   "metadata": {},
   "source": [
    "We print out the first 20 digits of the MNIST training dataset to get a feel for the dataset."
   ]
  },
  {
   "cell_type": "code",
   "execution_count": 174,
   "metadata": {},
   "outputs": [
    {
     "data": {
      "image/png": "[encoded data removed]",
      "text/plain": [
       "<matplotlib.figure.Figure at 0x7f41bb0e8978>"
      ]
     },
     "metadata": {
      "needs_background": "light"
     },
     "output_type": "display_data"
    }
   ],
   "source": [
    "plotImages(trainX[0:20,:])"
   ]
  },
  {
   "cell_type": "markdown",
   "metadata": {},
   "source": [
    "For our first proof of concept, we will store one of each of the 9 digits in associative memory."
   ]
  },
  {
   "cell_type": "code",
   "execution_count": 175,
   "metadata": {},
   "outputs": [
    {
     "data": {
      "image/png": "[encoded data removed]",
      "text/plain": [
       "<matplotlib.figure.Figure at 0x7f41bb195f60>"
      ]
     },
     "metadata": {
      "needs_background": "light"
     },
     "output_type": "display_data"
    }
   ],
   "source": [
    "digits = [1, 6, 5, 7, 26, 0, 18, 42, 17, 43]\n",
    "\n",
    "plotImagesHorizontal(np.array([trainX[i] for i in digits]))"
   ]
  },
  {
   "cell_type": "markdown",
   "metadata": {},
   "source": [
    "Pre-process the data so that the digit arrays are composed ot $1$s and $-1$s."
   ]
  },
  {
   "cell_type": "code",
   "execution_count": 176,
   "metadata": {},
   "outputs": [],
   "source": [
    "N = 784 # the mnist digits are 28 by 28 pixels and 28^2 = 784\n",
    "s = np.zeros(shape=(784,784))\n",
    "\n",
    "# converts digits to 1s and -1s\n",
    "return_abs = lambda x: -1 if x > 0 else 1\n",
    "\n",
    "# grabs the absolute values for each item in the array for mnist digit\n",
    "get_abs = lambda x: np.array([return_abs(i) for i in trainX[x]])"
   ]
  },
  {
   "cell_type": "markdown",
   "metadata": {},
   "source": [
    "Plot the images to see what they look like after processing."
   ]
  },
  {
   "cell_type": "code",
   "execution_count": 177,
   "metadata": {},
   "outputs": [
    {
     "data": {
      "image/png": "[encoded data removed]",
      "text/plain": [
       "<matplotlib.figure.Figure at 0x7f41ba9f1978>"
      ]
     },
     "metadata": {
      "needs_background": "light"
     },
     "output_type": "display_data"
    }
   ],
   "source": [
    "plotImagesHorizontal(data)"
   ]
  },
  {
   "cell_type": "markdown",
   "metadata": {},
   "source": [
    "### Storing Information:"
   ]
  },
  {
   "cell_type": "markdown",
   "metadata": {},
   "source": [
    "We generate the coupling coefficients according to the following equation:"
   ]
  },
  {
   "cell_type": "markdown",
   "metadata": {},
   "source": [
    "\\begin{equation}\n",
    "s_{ij} = \\frac{1}{N} \\sum_{m=1}^{M} \\sigma_i^m \\sigma_j^m\n",
    "\\end{equation}"
   ]
  },
  {
   "cell_type": "code",
   "execution_count": 335,
   "metadata": {},
   "outputs": [],
   "source": [
    "# stores one of each digit\n",
    "data = np.array([get_abs(i) for i in digits])\n",
    "# data = trainX[0:20]\n",
    "\n",
    "# grabs the coupling coefficients\n",
    "for i in range(784):\n",
    "    for j in range(784):\n",
    "        total = 0\n",
    "        for k in range(len(data)):\n",
    "            total += data[k][i] * data[k][j]\n",
    "        s[i][j] = 1/784 * total"
   ]
  },
  {
   "cell_type": "markdown",
   "metadata": {},
   "source": [
    "### Retrieving information:"
   ]
  },
  {
   "cell_type": "markdown",
   "metadata": {},
   "source": [
    "\\begin{equation}\n",
    "y_i = h(x_i) = sgn(x_i)\n",
    "\\end{equation}\n",
    "\n",
    "\\begin{equation}\n",
    "u_i = sgn \\left( \\sum_{j=1}^{N} s_{ij}y_j \\right) \\longrightarrow \\left( \\sum_{j=1}^{N} s_{ij}sgn(x_j) \\right)\n",
    "\\end{equation}\n",
    "\n",
    "\\begin{equation}\n",
    "\\frac{\\partial x_i}{\\partial t} = -x_i + sgn \\left( \\sum_{j=1}^{N} s_{ij}sgn(x_j) \\right)\n",
    "\\end{equation}"
   ]
  },
  {
   "cell_type": "code",
   "execution_count": 231,
   "metadata": {},
   "outputs": [],
   "source": [
    "def testDigit(input_digit):  \n",
    "    test = np.array([return_abs(i) for i in input_digit])\n",
    "    V = test # this is the initial state (where the tested image goes)\n",
    "    new_V = np.ones(784)\n",
    "\n",
    "    for i in range(784):\n",
    "        total_sV = 0\n",
    "        for j in range(784):\n",
    "            total_sV += s[i][j] * V[j]\n",
    "\n",
    "        if total_sV >= 0:\n",
    "            new_V[i] = 1\n",
    "        else:\n",
    "            new_V[i] = -1\n",
    "\n",
    "    V = new_V\n",
    "    V_resized = np.array(V).reshape(28, 28)\n",
    "    test_resized = np.array(test).reshape(28, 28)\n",
    "    \n",
    "    # returns array of input digit and array of retrieved digit\n",
    "    return test_resized, V_resized"
   ]
  },
  {
   "cell_type": "markdown",
   "metadata": {},
   "source": [
    "### Test memory retrieval:"
   ]
  },
  {
   "cell_type": "code",
   "execution_count": 336,
   "metadata": {},
   "outputs": [
    {
     "data": {
      "image/png": "[encoded data removed]",
      "text/plain": [
       "<matplotlib.figure.Figure at 0x7f41baddb940>"
      ]
     },
     "metadata": {
      "needs_background": "light"
     },
     "output_type": "display_data"
    }
   ],
   "source": [
    "# testing retrieval of digit 9 from memory\n",
    "input_9, output_9 = testDigit(trainX[4])\n",
    "\n",
    "# testing retrieval of digit 5 from memory\n",
    "input_5, output_5 = testDigit(testX[23]) \n",
    "\n",
    "# testing retrieval of digit 5 from memory\n",
    "input_3, output_3 = testDigit(testX[32]) \n",
    "\n",
    "f = plt.figure()\n",
    "f.set_size_inches(5, 5)\n",
    "f.suptitle(\"Input vs. Output\", fontsize=12)\n",
    "\n",
    "f.add_subplot(321)\n",
    "plt.imshow(input_9, cmap = cm.Greys_r)\n",
    "\n",
    "f.add_subplot(322)\n",
    "plt.imshow(output_9, cmap = cm.Greys_r)\n",
    "\n",
    "f.add_subplot(323)\n",
    "plt.imshow(input_5, cmap = cm.Greys_r)\n",
    "\n",
    "f.add_subplot(324)\n",
    "plt.imshow(output_5, cmap = cm.Greys_r)\n",
    "\n",
    "f.add_subplot(325)\n",
    "plt.imshow(input_3, cmap = cm.Greys_r)\n",
    "\n",
    "f.add_subplot(326)\n",
    "plt.imshow(output_3, cmap = cm.Greys_r)\n",
    "plt.show()\n"
   ]
  },
  {
   "cell_type": "markdown",
   "metadata": {},
   "source": [
    "Here we can see how the digits bleed into each other due to interference from the network."
   ]
  },
  {
   "cell_type": "code",
   "execution_count": 329,
   "metadata": {},
   "outputs": [],
   "source": [
    "# stores 20 digits\n",
    "data = trainX[0:20]\n",
    "\n",
    "# grabs the coupling coefficients\n",
    "for i in range(784):\n",
    "    for j in range(784):\n",
    "        total = 0\n",
    "        for k in range(len(data)):\n",
    "            total += data[k][i] * data[k][j]\n",
    "        s[i][j] = 1/784 * total"
   ]
  },
  {
   "cell_type": "code",
   "execution_count": 333,
   "metadata": {},
   "outputs": [
    {
     "data": {
      "image/png": "[encoded data removed]",
      "text/plain": [
       "<matplotlib.figure.Figure at 0x7f41ba44a780>"
      ]
     },
     "metadata": {
      "needs_background": "light"
     },
     "output_type": "display_data"
    },
    {
     "data": {
      "image/png": "[encoded data removed]",
      "text/plain": [
       "<matplotlib.figure.Figure at 0x7f41bb047b00>"
      ]
     },
     "metadata": {
      "needs_background": "light"
     },
     "output_type": "display_data"
    }
   ],
   "source": [
    "for i in [0, 4]:\n",
    "    inputX, outputX = testDigit(trainX[i])\n",
    "\n",
    "    f = plt.figure()\n",
    "    f.set_size_inches(2, 2)\n",
    "    f.add_subplot(121)\n",
    "    plt.imshow(inputX, cmap = cm.Greys_r)\n",
    "    f.add_subplot(122)\n",
    "    plt.imshow(outputX, cmap = cm.Greys_r)\n",
    "    plt.show()"
   ]
  }
 ],
 "metadata": {
  "kernelspec": {
   "display_name": "Python 3",
   "language": "python",
   "name": "python3"
  },
  "language_info": {
   "codemirror_mode": {
    "name": "ipython",
    "version": 3
   },
   "file_extension": ".py",
   "mimetype": "text/x-python",
   "name": "python",
   "nbconvert_exporter": "python",
   "pygments_lexer": "ipython3",
   "version": "3.5.2"
  }
 },
 "nbformat": 4,
 "nbformat_minor": 2
}
