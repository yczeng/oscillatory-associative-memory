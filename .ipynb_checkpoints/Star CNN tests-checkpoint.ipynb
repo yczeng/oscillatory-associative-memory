{
 "cells": [
  {
   "cell_type": "markdown",
   "metadata": {},
   "source": [
    "## 1) Finding the Coupling Coefficients:"
   ]
  },
  {
   "cell_type": "code",
   "execution_count": 2,
   "metadata": {},
   "outputs": [],
   "source": [
    "import numpy as np\n",
    "import pickle, gzip, numpy as np\n",
    "import matplotlib.pyplot as plt\n",
    "import matplotlib.cm as cm\n",
    "import math\n",
    "import random"
   ]
  },
  {
   "cell_type": "code",
   "execution_count": 3,
   "metadata": {},
   "outputs": [],
   "source": [
    "sigma_1 = np.array([-1, -1, -1, -1, -1, -1, -1, -1, -1, -1, 1, 1, 1, 1, 1, -1, -1, -1, -1, -1, -1, -1, -1, -1, -1])\n",
    "sigma_2 = np.array([-1, -1, 1, -1, -1, -1, -1, 1, -1, -1, -1, -1, 1, -1, -1, -1, -1, 1, -1, -1, -1, -1, 1, -1, -1])\n",
    "sigma_3 = np.array([1, 1, 1, 1, 1, 1, -1, -1, -1, 1, 1, -1, -1, -1, 1, 1, -1, -1, -1, 1, 1, 1, 1, 1, 1])\n",
    "sigma_4 = np.array([1, -1, -1, -1, 1, -1, 1, -1, 1, -1, -1, -1, 1, -1, -1, -1, 1, -1, 1, -1, 1, -1, -1, -1, 1])"
   ]
  },
  {
   "cell_type": "markdown",
   "metadata": {},
   "source": [
    "### Print the figures:"
   ]
  },
  {
   "cell_type": "code",
   "execution_count": 10,
   "metadata": {},
   "outputs": [
    {
     "data": {
      "text/plain": [
       "<matplotlib.image.AxesImage at 0x7f3ca52a9fd0>"
      ]
     },
     "execution_count": 10,
     "metadata": {},
     "output_type": "execute_result"
    },
    {
     "data": {
      "image/png": "[encoded data removed]",
      "text/plain": [
       "<matplotlib.figure.Figure at 0x7f3ca536e668>"
      ]
     },
     "metadata": {
      "needs_background": "light"
     },
     "output_type": "display_data"
    }
   ],
   "source": [
    "sigma_1_show = np.array(sigma_1).reshape(5, 5)\n",
    "sigma_2_show = np.array(sigma_2).reshape(5, 5)\n",
    "sigma_3_show = np.array(sigma_3).reshape(5, 5)\n",
    "sigma_4_show = np.array(sigma_4).reshape(5, 5)\n",
    "plt.imshow(sigma_1_show, cmap = cm.Greys_r)\n",
    "# plt.imshow(sigma_2_show, cmap = cm.Greys_r)\n",
    "# plt.imshow(sigma_3_show, cmap = cm.Greys_r)\n",
    "# plt.imshow(sigma_4_show, cmap = cm.Greys_r)"
   ]
  },
  {
   "cell_type": "code",
   "execution_count": 13,
   "metadata": {},
   "outputs": [],
   "source": [
    "s = np.zeros(shape=(25,25))\n",
    "\n",
    "for i in range(25):\n",
    "    for j in range(25):\n",
    "        s[i][j] = 1/25 * (sigma_1[i] * sigma_1[j] + sigma_2[i] * sigma_2[j] + sigma_3[i] * sigma_3[j] + sigma_4[i] * sigma_4[j])\n",
    "    \n",
    "# print(25 * s)"
   ]
  },
  {
   "cell_type": "markdown",
   "metadata": {},
   "source": [
    "This generates a 25 by 25 matrix of the coupling coefficients."
   ]
  },
  {
   "cell_type": "markdown",
   "metadata": {},
   "source": [
    "## 2) Assign the initial state $v_i(0)$ and update the network:"
   ]
  },
  {
   "cell_type": "markdown",
   "metadata": {},
   "source": [
    "### Test with a sample squares, see if converge."
   ]
  },
  {
   "cell_type": "code",
   "execution_count": 21,
   "metadata": {},
   "outputs": [],
   "source": [
    "def tryTest(sigma_test):\n",
    "    sigma_test_resized = np.array(sigma_test).reshape(5, 5)\n",
    "\n",
    "    V = sigma_test # this is the initial state (I guess it's the where the tested image goes)\n",
    "    new_V = np.ones(25)\n",
    "\n",
    "    for i in range(25):\n",
    "        total = 0\n",
    "        for j in range(25):\n",
    "            total += s[i][j] * V[j]\n",
    "\n",
    "        # total signed total is just y\n",
    "        if total >= 0:\n",
    "            new_V[i] = 1\n",
    "        else:\n",
    "            new_V[i] = -1\n",
    "\n",
    "    V = new_V\n",
    "    # print(V)\n",
    "    output = np.array(V).reshape(5, 5)\n",
    "\n",
    "    f = plt.figure()\n",
    "    f.add_subplot(121)\n",
    "    plt.imshow(sigma_test_resized, cmap = cm.Greys_r)\n",
    "    f.add_subplot(122)\n",
    "    plt.imshow(output, cmap = cm.Greys_r)\n",
    "    plt.show()"
   ]
  },
  {
   "cell_type": "code",
   "execution_count": 25,
   "metadata": {},
   "outputs": [
    {
     "data": {
      "image/png": "[encoded data removed]",
      "text/plain": [
       "<matplotlib.figure.Figure at 0x7f3ca4d0d908>"
      ]
     },
     "metadata": {
      "needs_background": "light"
     },
     "output_type": "display_data"
    }
   ],
   "source": [
    "sigma_test = np.array([-1, -1, -1, -1, -1, 1, -1, -1, 1, -1, 1, 1, 1, 1, 1, -1, -1, -1, -1, 1, -1, -1, -1, -1, -1])\n",
    "tryTest(sigma_test)"
   ]
  },
  {
   "cell_type": "code",
   "execution_count": 24,
   "metadata": {},
   "outputs": [
    {
     "data": {
      "image/png": "[encoded data removed]",
      "text/plain": [
       "<matplotlib.figure.Figure at 0x7f3ca4cebf98>"
      ]
     },
     "metadata": {
      "needs_background": "light"
     },
     "output_type": "display_data"
    }
   ],
   "source": [
    "sigma_test2 = np.array([-1, 1, 1, 1, -1, -1, -1, 1, -1, 1, -1, -1, 1, -1, -1, -1, 1, -1, -1, -1, -1, -1, 1, -1, -1])\n",
    "tryTest(sigma_test2)"
   ]
  },
  {
   "cell_type": "code",
   "execution_count": 27,
   "metadata": {},
   "outputs": [
    {
     "data": {
      "image/png": "[encoded data removed]",
      "text/plain": [
       "<matplotlib.figure.Figure at 0x7f3ca500ebe0>"
      ]
     },
     "metadata": {
      "needs_background": "light"
     },
     "output_type": "display_data"
    }
   ],
   "source": [
    "sigma_test3 = np.array([1, 1, 1, -1, 1, 1, -1, -1, -1, 1, 1, -1, 1, -1, 1, 1, -1, -1, -1, 1, 1, 1, 1, 1, -1])\n",
    "tryTest(sigma_test3)"
   ]
  },
  {
   "cell_type": "code",
   "execution_count": 28,
   "metadata": {},
   "outputs": [
    {
     "data": {
      "image/png": "[encoded data removed]",
      "text/plain": [
       "<matplotlib.figure.Figure at 0x7f3ca50f4630>"
      ]
     },
     "metadata": {
      "needs_background": "light"
     },
     "output_type": "display_data"
    }
   ],
   "source": [
    "sigma_test4 = np.array([-1, -1, -1, -1, 1, -1, 1, -1, 1, -1, 1, -1, 1, -1, -1, -1, 1, 1, 1, -1, 1, -1, -1, -1, 1])\n",
    "tryTest(sigma_test4)"
   ]
  },
  {
   "cell_type": "code",
   "execution_count": 65,
   "metadata": {},
   "outputs": [
    {
     "data": {
      "image/png": "[encoded data removed]",
      "text/plain": [
       "<matplotlib.figure.Figure at 0x7f3ca41305c0>"
      ]
     },
     "metadata": {
      "needs_background": "light"
     },
     "output_type": "display_data"
    }
   ],
   "source": [
    "sigma_test5 = np.array([1, 1, 1, 1, 1, 1, 1, -1, 1, 1, 1, 1, -1, -1, 1, 1, -1, -1, -1, 1, 1, 1, 1, 1, 1])\n",
    "tryTest(sigma_test5)"
   ]
  },
  {
   "cell_type": "markdown",
   "metadata": {},
   "source": [
    "First-order Star CNNs (this is the same thing as the basic weight change rules above)"
   ]
  },
  {
   "cell_type": "markdown",
   "metadata": {},
   "source": [
    "## Second-order Star CNN"
   ]
  },
  {
   "cell_type": "markdown",
   "metadata": {},
   "source": [
    "### 1) Two-cell CNNs"
   ]
  },
  {
   "cell_type": "code",
   "execution_count": 61,
   "metadata": {},
   "outputs": [
    {
     "data": {
      "image/png": "[encoded data removed]",
      "text/plain": [
       "<matplotlib.figure.Figure at 0x7f3ca46a5320>"
      ]
     },
     "metadata": {
      "needs_background": "light"
     },
     "output_type": "display_data"
    },
    {
     "data": {
      "image/png": "[encoded data removed]",
      "text/plain": [
       "<matplotlib.figure.Figure at 0x7f3ca45237f0>"
      ]
     },
     "metadata": {
      "needs_background": "light"
     },
     "output_type": "display_data"
    },
    {
     "data": {
      "text/plain": [
       "<matplotlib.image.AxesImage at 0x7f3ca4097860>"
      ]
     },
     "execution_count": 61,
     "metadata": {},
     "output_type": "execute_result"
    },
    {
     "data": {
      "image/png": "[encoded data removed]",
      "text/plain": [
       "<matplotlib.figure.Figure at 0x7f3ca40d4a58>"
      ]
     },
     "metadata": {
      "needs_background": "light"
     },
     "output_type": "display_data"
    }
   ],
   "source": [
    "# this converges on the first pattern\n",
    "V = sigma_test\n",
    "Y = np.ones(25)\n",
    "\n",
    "new_V = np.ones(25)\n",
    "new_Y = np.ones(25)\n",
    "\n",
    "def h(x):\n",
    "    return(1/2 * ((abs(x + 1)) - abs(x - 1)) )\n",
    "\n",
    "def sgn(x):\n",
    "    if x >= 0:\n",
    "        return 1\n",
    "    else:\n",
    "        return -1\n",
    "    \n",
    "saved_x = []\n",
    "saved_y = []\n",
    "timestamp = 10\n",
    "for t in range(timestamp):\n",
    "#     print(V[0])\n",
    "    saved_x.append(V[0])\n",
    "    saved_y.append(Y[0])\n",
    "    \n",
    "    for i in range(25):\n",
    "        p=1.1; q=1.1; r=-2; k=2\n",
    "\n",
    "        dx = -V[i] + p*h(V[i]) + r*h(Y[i])\n",
    "        dy = -Y[i] + k*h(V[i]) + q*h(Y[i])\n",
    "\n",
    "#         total = 0\n",
    "#         for j in range(25):\n",
    "#             total += s[i][j] * V[j]\n",
    "\n",
    "#         dx += sgn(total)\n",
    "\n",
    "        new_V[i] = V[i] + dx\n",
    "        new_Y[i] = Y[i] + dy\n",
    "\n",
    "    V = new_V\n",
    "    Y = new_Y\n",
    "# print(V)\n",
    "\n",
    "plt.plot([i + 1 for i in range(timestamp)], saved_x)\n",
    "plt.xlabel(\"t\")\n",
    "plt.ylabel(\"x\")\n",
    "plt.show()\n",
    "\n",
    "plt.plot([i + 1 for i in range(timestamp)], saved_y)\n",
    "plt.xlabel(\"t\")\n",
    "plt.ylabel(\"y\")\n",
    "plt.show()\n",
    "\n",
    "new_array=[sgn(i) for i in V]\n",
    "new_array_resized = np.array(new_array).reshape(5, 5)\n",
    "plt.imshow(new_array_resized, cmap = cm.Greys_r)"
   ]
  },
  {
   "cell_type": "code",
   "execution_count": null,
   "metadata": {},
   "outputs": [],
   "source": []
  },
  {
   "cell_type": "code",
   "execution_count": null,
   "metadata": {},
   "outputs": [],
   "source": []
  }
 ],
 "metadata": {
  "kernelspec": {
   "display_name": "Python 3",
   "language": "python",
   "name": "python3"
  },
  "language_info": {
   "codemirror_mode": {
    "name": "ipython",
    "version": 3
   },
   "file_extension": ".py",
   "mimetype": "text/x-python",
   "name": "python",
   "nbconvert_exporter": "python",
   "pygments_lexer": "ipython3",
   "version": "3.5.2"
  }
 },
 "nbformat": 4,
 "nbformat_minor": 2
}
