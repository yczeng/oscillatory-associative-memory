{
 "cells": [
  {
   "cell_type": "markdown",
   "metadata": {},
   "source": [
    "Import statements:"
   ]
  },
  {
   "cell_type": "code",
   "execution_count": 1,
   "metadata": {},
   "outputs": [],
   "source": [
    "import pickle, gzip, numpy as np\n",
    "import matplotlib.pyplot as plt\n",
    "import matplotlib.cm as cm\n",
    "import math\n",
    "import random"
   ]
  },
  {
   "cell_type": "markdown",
   "metadata": {},
   "source": [
    "Importing the MNIST dataset:"
   ]
  },
  {
   "cell_type": "code",
   "execution_count": 2,
   "metadata": {},
   "outputs": [],
   "source": [
    "def plotImages(X):\n",
    "    if X.ndim == 1:\n",
    "        X = np.array([X])\n",
    "    numImages = X.shape[0]\n",
    "    numRows = math.floor(math.sqrt(numImages))\n",
    "    numCols = math.ceil(numImages/numRows)\n",
    "    for i in range(numImages):\n",
    "        reshapedImage = X[i,:].reshape(28,28)\n",
    "        plt.subplot(numRows, numCols, i+1)\n",
    "        plt.imshow(reshapedImage, cmap = cm.Greys_r)\n",
    "        plt.axis('off')\n",
    "    plt.show()\n",
    "\n",
    "def readPickleData(fileName):\n",
    "    f = gzip.open(fileName, 'rb')\n",
    "    data = pickle.load(f, encoding='latin1')\n",
    "    f.close()\n",
    "    return data\n",
    "\n",
    "def getMNISTData():\n",
    "    trainSet, validSet, testSet = readPickleData('mnist.pkl.gz')   \n",
    "    trainX, trainY = trainSet\n",
    "    validX, validY = validSet\n",
    "    trainX = np.vstack((trainX, validX))\n",
    "    trainY = np.append(trainY, validY)\n",
    "    testX, testY = testSet\n",
    "    return (trainX, trainY, testX, testY)\n",
    "\n",
    "def plotImagesHorizontal(X):\n",
    "    if X.ndim == 1:\n",
    "        X = np.array([X])\n",
    "    numImages = X.shape[0]\n",
    "    numRows = 1\n",
    "    numCols = numImages\n",
    "    for i in range(numImages):\n",
    "        reshapedImage = X[i,:].reshape(28,28)\n",
    "        plt.subplot(numRows, numCols, i+1)\n",
    "        plt.imshow(reshapedImage, cmap = cm.Greys_r)\n",
    "        plt.axis('off')\n",
    "    plt.show()\n",
    "\n",
    "(trainX, trainY, testX, testY) = getMNISTData()"
   ]
  },
  {
   "cell_type": "markdown",
   "metadata": {},
   "source": [
    "We print out the first 20 digits of the MNIST training dataset to get a feel for the dataset:"
   ]
  },
  {
   "cell_type": "code",
   "execution_count": 3,
   "metadata": {},
   "outputs": [
    {
     "data": {
      "image/png": "[encoded data removed]",
      "text/plain": [
       "<matplotlib.figure.Figure at 0x7f41bfc8acc0>"
      ]
     },
     "metadata": {
      "needs_background": "light"
     },
     "output_type": "display_data"
    }
   ],
   "source": [
    "plotImages(trainX[0:20,:])"
   ]
  },
  {
   "cell_type": "markdown",
   "metadata": {},
   "source": [
    "For our first proof of concept, we will store one of each of the 9 digits in associative memory:"
   ]
  },
  {
   "cell_type": "code",
   "execution_count": 106,
   "metadata": {},
   "outputs": [
    {
     "data": {
      "image/png": "[encoded data removed]",
      "text/plain": [
       "<matplotlib.figure.Figure at 0x7f41bbd55d30>"
      ]
     },
     "metadata": {
      "needs_background": "light"
     },
     "output_type": "display_data"
    }
   ],
   "source": [
    "digits = [1, 6, 5, 7, 26, 0, 18, 42, 17, 43]\n",
    "\n",
    "plotImagesHorizontal(np.array([trainX[i] for i in digits]))"
   ]
  },
  {
   "cell_type": "markdown",
   "metadata": {},
   "source": [
    "Next, we generate the coupling coefficients according to the following equation:"
   ]
  },
  {
   "cell_type": "markdown",
   "metadata": {},
   "source": [
    "\\begin{equation}\n",
    "s_{ij} = \\frac{1}{N} \\sum_{m=1}^{M} \\sigma_i^m \\sigma_j^m\n",
    "\\end{equation}"
   ]
  },
  {
   "cell_type": "code",
   "execution_count": 142,
   "metadata": {},
   "outputs": [],
   "source": [
    "N = 784 # the mnist digits are 28 by 28 pixels and 28^2 = 784\n",
    "s = np.zeros(shape=(784,784))\n",
    "\n",
    "# converts digits to 1s and -1s\n",
    "return_abs = lambda x: -1 if x > 0 else 1\n",
    "\n",
    "# grabs the absolute values for each item in the array for mnist digit\n",
    "get_abs = lambda x: np.array([return_abs(i) for i in trainX[x]])\n",
    "\n",
    "# stores one of each digit\n",
    "data = np.array([get_abs(i) for i in digits])\n",
    "\n",
    "# grabs the coupling coefficients\n",
    "for i in range(784):\n",
    "    for j in range(784):\n",
    "        total = 0\n",
    "        for k in range(len(data)):\n",
    "            total += data[k][i] * data[k][j]\n",
    "        s[i][j] = 1/784 * total"
   ]
  },
  {
   "cell_type": "markdown",
   "metadata": {},
   "source": [
    "We plot the images to see what they look like after processing:"
   ]
  },
  {
   "cell_type": "code",
   "execution_count": 143,
   "metadata": {},
   "outputs": [
    {
     "data": {
      "image/png": "[encoded data removed]",
      "text/plain": [
       "<matplotlib.figure.Figure at 0x7f41bb1b46d8>"
      ]
     },
     "metadata": {
      "needs_background": "light"
     },
     "output_type": "display_data"
    }
   ],
   "source": [
    "plotImagesHorizontal(data)"
   ]
  },
  {
   "cell_type": "markdown",
   "metadata": {},
   "source": [
    "We run the first digit in the test set and see what item in associative memory it matches with from the 9 digits stored from the training set:"
   ]
  },
  {
   "cell_type": "code",
   "execution_count": 144,
   "metadata": {},
   "outputs": [
    {
     "data": {
      "text/plain": [
       "<matplotlib.image.AxesImage at 0x7f41ba78b438>"
      ]
     },
     "execution_count": 144,
     "metadata": {},
     "output_type": "execute_result"
    },
    {
     "data": {
      "image/png": "[encoded data removed]",
      "text/plain": [
       "<matplotlib.figure.Figure at 0x7f41ba8151d0>"
      ]
     },
     "metadata": {
      "needs_background": "light"
     },
     "output_type": "display_data"
    }
   ],
   "source": [
    "test = np.array([return_abs(i) for i in trainX[4]])\n",
    "test_resized = np.array(test).reshape(28, 28)\n",
    "plt.imshow(test_resized, cmap = cm.Greys_r)"
   ]
  },
  {
   "cell_type": "code",
   "execution_count": 145,
   "metadata": {},
   "outputs": [
    {
     "data": {
      "text/plain": [
       "<matplotlib.image.AxesImage at 0x7f41ba6f1be0>"
      ]
     },
     "execution_count": 145,
     "metadata": {},
     "output_type": "execute_result"
    },
    {
     "data": {
      "image/png": "[encoded data removed]",
      "text/plain": [
       "<matplotlib.figure.Figure at 0x7f41ba818b70>"
      ]
     },
     "metadata": {
      "needs_background": "light"
     },
     "output_type": "display_data"
    }
   ],
   "source": [
    "V = test # this is the initial state (where the tested image goes)\n",
    "new_V = np.ones(784)\n",
    "\n",
    "for i in range(784):\n",
    "    total_sV = 0\n",
    "    for j in range(784):\n",
    "        total_sV += s[i][j] * V[j]\n",
    "        \n",
    "    if total_sV >= 0:\n",
    "        new_V[i] = 1\n",
    "    else:\n",
    "        new_V[i] = -1\n",
    "\n",
    "V = new_V\n",
    "new = np.array(V).reshape(28, 28)\n",
    "plt.imshow(new, cmap = cm.Greys_r)"
   ]
  },
  {
   "cell_type": "markdown",
   "metadata": {},
   "source": [
    "Here, we can see that the associative memory returned a 9 when the a 9 input digit was inserted."
   ]
  }
 ],
 "metadata": {
  "kernelspec": {
   "display_name": "Python 3",
   "language": "python",
   "name": "python3"
  },
  "language_info": {
   "codemirror_mode": {
    "name": "ipython",
    "version": 3
   },
   "file_extension": ".py",
   "mimetype": "text/x-python",
   "name": "python",
   "nbconvert_exporter": "python",
   "pygments_lexer": "ipython3",
   "version": "3.5.2"
  }
 },
 "nbformat": 4,
 "nbformat_minor": 2
}
